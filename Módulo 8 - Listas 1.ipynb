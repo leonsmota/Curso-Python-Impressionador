{
 "cells": [
  {
   "cell_type": "markdown",
   "metadata": {},
   "source": [
    "# Exercícios\n",
    "\n",
    "## 1. Faturamento do Melhor e do Pior Mês do Ano\n",
    "\n",
    "Qual foi o valor de vendas do melhor mês do Ano?\n",
    "E valor do pior mês do ano?"
   ]
  },
  {
   "cell_type": "code",
   "execution_count": 23,
   "metadata": {},
   "outputs": [
    {
     "name": "stdout",
     "output_type": "stream",
     "text": [
      "O valor de vendas do melhor mês do ano foi de R$ 49,051 e o pior foi de R$ 9,650\n"
     ]
    }
   ],
   "source": [
    "meses = ['jan', 'fev', 'mar', 'abr', 'mai', 'jun', 'jul', 'ago', 'set', 'out', 'nov', 'dez']\n",
    "vendas_1sem = [25000, 29000, 22200, 17750, 15870, 19900]\n",
    "vendas_2sem = [19850, 20120, 17540, 15555, 49051, 9650]\n",
    "\n",
    "vendas_ano = vendas_1sem + vendas_2sem\n",
    "\n",
    "fat_melhor_mes = max(vendas_ano)\n",
    "fat_pior_mes = min(vendas_ano)\n",
    "\n",
    "print('O valor de vendas do melhor mês do ano foi de R$ {:1,} e o pior foi de R$ {:1,}'.format(fat_melhor_mes, fat_pior_mes))"
   ]
  },
  {
   "cell_type": "markdown",
   "metadata": {},
   "source": [
    "## 2. Continuação\n",
    "\n",
    "Agora relacione as duas listas para printar 'O melhor mês do ano foi {} com {} vendas' e o mesmo para o pior mês do ano.\n",
    "\n",
    "Calcule também o faturamento total do Ano e quanto que o melhor mês representou do faturamento total.\n",
    "\n",
    "Obs: Para o faturamento total, pode usar a função sum(lista) que soma todos os itens de uma lista"
   ]
  },
  {
   "cell_type": "code",
   "execution_count": 20,
   "metadata": {},
   "outputs": [
    {
     "name": "stdout",
     "output_type": "stream",
     "text": [
      "O melhor mês do ano foi nov com R$ 49,051 vendas\n",
      "O pior mês do ano foi dez com R$ 9,650 vendas\n",
      "O faturamento total do ano foi de R$ 261,486\n",
      "As vendas do melhor mês representaram 18.76% do total de vendas\n"
     ]
    }
   ],
   "source": [
    "i_fat_melhor_mes = vendas_ano.index(fat_melhor_mes)\n",
    "i_fat_pior_mes = vendas_ano.index(fat_pior_mes)\n",
    "\n",
    "print('O melhor mês do ano foi {} com R$ {:1,} vendas'.format(meses[i_fat_melhor_mes], fat_melhor_mes))\n",
    "print('O pior mês do ano foi {} com R$ {:1,} vendas'.format(meses[i_fat_pior_mes], fat_pior_mes))\n",
    "\n",
    "total_vendas = sum(vendas_ano)\n",
    "print('O faturamento total do ano foi de R$ {:1,}'.format(total_vendas))\n",
    "\n",
    "percentual = fat_melhor_mes / total_vendas\n",
    "print('As vendas do melhor mês representaram {:.2%} do total de vendas'.format(percentual))"
   ]
  },
  {
   "cell_type": "markdown",
   "metadata": {},
   "source": [
    "## 3. Crie uma lista com o top 3 valores de vendas do ano (sem fazer \"no olho\")\n",
    "\n",
    "Dica: o método remove retira um item da lista."
   ]
  },
  {
   "cell_type": "code",
   "execution_count": 26,
   "metadata": {},
   "outputs": [
    {
     "name": "stdout",
     "output_type": "stream",
     "text": [
      "[49051, 29000, 25000]\n"
     ]
    }
   ],
   "source": [
    "top3 = []\n",
    "\n",
    "maior_valor = max(vendas_ano)\n",
    "top3.append(maior_valor)\n",
    "\n",
    "vendas_ano.remove(maior_valor)\n",
    "\n",
    "maior_valor = max(vendas_ano)\n",
    "top3.append(maior_valor)\n",
    "\n",
    "vendas_ano.remove(maior_valor)\n",
    "\n",
    "maior_valor = max(vendas_ano)\n",
    "top3.append(maior_valor)\n",
    "\n",
    "vendas_ano.remove(maior_valor)\n",
    "\n",
    "print(top3)"
   ]
  },
  {
   "cell_type": "code",
   "execution_count": null,
   "metadata": {},
   "outputs": [],
   "source": []
  }
 ],
 "metadata": {
  "kernelspec": {
   "display_name": "Python 3 (ipykernel)",
   "language": "python",
   "name": "python3"
  },
  "language_info": {
   "codemirror_mode": {
    "name": "ipython",
    "version": 3
   },
   "file_extension": ".py",
   "mimetype": "text/x-python",
   "name": "python",
   "nbconvert_exporter": "python",
   "pygments_lexer": "ipython3",
   "version": "3.9.13"
  }
 },
 "nbformat": 4,
 "nbformat_minor": 4
}

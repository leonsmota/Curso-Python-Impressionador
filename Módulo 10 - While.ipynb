{
 "cells": [
  {
   "cell_type": "markdown",
   "metadata": {},
   "source": [
    "# Exercícios\n",
    "\n",
    "## 1. Input até o usuário parar\n",
    "\n",
    "Vamos criar um sistema de vendas. Nosso programa deve registrar os produtos e as quantidades (2 inputs) e adicionar em uma lista.\n",
    "\n",
    "O programa deve continuar rodando até o input ser vazio, ou seja, o usuário apertar enter sem digitar nenhum produto ou quantidade.\n",
    "\n",
    "Ao final do programa, ele deve printar todos os produtos e quantidades vendidas.\n",
    "\n",
    "Obs: Caso queira, para o print ficar mais visual, pode usar o join para cada item ser printado em uma linha.\n",
    "Sugestão para sua lista de produtos vendidos:"
   ]
  },
  {
   "cell_type": "raw",
   "metadata": {},
   "source": [
    "vendas = [\n",
    "    ['maçã', 5],\n",
    "    ['banana', 15],\n",
    "    ['azeite', 1],\n",
    "    ['vinho', 3],\n",
    "venda]"
   ]
  },
  {
   "cell_type": "code",
   "execution_count": 27,
   "metadata": {},
   "outputs": [
    {
     "name": "stdout",
     "output_type": "stream",
     "text": [
      "Registre um produto, quando terminar deixa vazio e aperte ENTERmaca\n",
      "Registre a quantidade, quando terminar deixa vazio e aperte ENTER5\n",
      "Registre um produto, quando terminar deixa vazio e aperte ENTERbanana\n",
      "Registre a quantidade, quando terminar deixa vazio e aperte ENTER10\n",
      "Registre um produto, quando terminar deixa vazio e aperte ENTERvinho\n",
      "Registre a quantidade, quando terminar deixa vazio e aperte ENTER30\n",
      "Registre um produto, quando terminar deixa vazio e aperte ENTERazeite\n",
      "Registre a quantidade, quando terminar deixa vazio e aperte ENTER2\n",
      "Registre um produto, quando terminar deixa vazio e aperte ENTERlaranja\n",
      "Registre a quantidade, quando terminar deixa vazio e aperte ENTER15\n",
      "Registre um produto, quando terminar deixa vazio e aperte ENTER\n",
      "['maca', 5]\n",
      "['banana', 10]\n",
      "['vinho', 30]\n",
      "['azeite', 2]\n",
      "['laranja', 15]\n"
     ]
    }
   ],
   "source": [
    "vendas = []\n",
    "\n",
    "while True:\n",
    "    produtos = input ('Registre um produto, quando terminar deixa vazio e aperte ENTER')\n",
    "    if not produtos:\n",
    "        break\n",
    "    quantidade = int(input('Registre a quantidade, quando terminar deixa vazio e aperte ENTER'))\n",
    "    vendas.append(str([produtos, quantidade]))\n",
    "\n",
    "print('\\n'.join(vendas))\n",
    "    \n",
    "\n",
    "    "
   ]
  },
  {
   "cell_type": "markdown",
   "metadata": {},
   "source": [
    "### Obs: Podemos fazer o While de 2 maneiras:\n",
    "\n",
    "1. While com a condição que finalize o programa\n",
    "2. While rodando para sempre, mas com uma condição dentro do while que dê um break no código.\n",
    "\n",
    "Vamos mostrar as 2 opções"
   ]
  },
  {
   "cell_type": "code",
   "execution_count": null,
   "metadata": {},
   "outputs": [],
   "source": []
  }
 ],
 "metadata": {
  "kernelspec": {
   "display_name": "Python 3 (ipykernel)",
   "language": "python",
   "name": "python3"
  },
  "language_info": {
   "codemirror_mode": {
    "name": "ipython",
    "version": 3
   },
   "file_extension": ".py",
   "mimetype": "text/x-python",
   "name": "python",
   "nbconvert_exporter": "python",
   "pygments_lexer": "ipython3",
   "version": "3.9.13"
  }
 },
 "nbformat": 4,
 "nbformat_minor": 4
}

{
 "cells": [
  {
   "cell_type": "markdown",
   "id": "e6fa5871",
   "metadata": {},
   "source": [
    "### Esperar o Elemento carregar\n",
    "\n",
    "2 métodos:\n",
    "\n",
    "- WebDriverWait + ExpectedConditions (EC)\n",
    "    - Nativo do Selenium, menos linhas de código\n",
    "    - Já vi dar bug e mais chatinho de lembrar\n",
    "- Loop de espera\n",
    "    - Criação de uma espera \"manual\"\n",
    "    - Nunca abandona"
   ]
  },
  {
   "cell_type": "code",
   "execution_count": 5,
   "id": "a240da55",
   "metadata": {},
   "outputs": [],
   "source": [
    "from selenium import webdriver\n",
    "\n",
    "driver = webdriver.Chrome()\n",
    "driver.get(\"https://hashtagtreinamentos.com\")\n"
   ]
  },
  {
   "cell_type": "code",
   "execution_count": 7,
   "id": "13792b7b",
   "metadata": {},
   "outputs": [],
   "source": [
    "# WebDriverWait e EC\n"
   ]
  },
  {
   "cell_type": "code",
   "execution_count": 8,
   "id": "6f1e5e7c",
   "metadata": {},
   "outputs": [],
   "source": [
    "# loop\n"
   ]
  }
 ],
 "metadata": {
  "kernelspec": {
   "display_name": "Python 3 (ipykernel)",
   "language": "python",
   "name": "python3"
  },
  "language_info": {
   "codemirror_mode": {
    "name": "ipython",
    "version": 3
   },
   "file_extension": ".py",
   "mimetype": "text/x-python",
   "name": "python",
   "nbconvert_exporter": "python",
   "pygments_lexer": "ipython3",
   "version": "3.9.13"
  }
 },
 "nbformat": 4,
 "nbformat_minor": 5
}

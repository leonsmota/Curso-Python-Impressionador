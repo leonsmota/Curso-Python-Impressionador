{
 "cells": [
  {
   "cell_type": "code",
   "execution_count": 57,
   "id": "a0264c35",
   "metadata": {},
   "outputs": [],
   "source": [
    "#criar navegador\n",
    "from selenium import webdriver\n",
    "from selenium.webdriver.common.by import By\n",
    "navegador = webdriver.Chrome()\n",
    "import os"
   ]
  },
  {
   "cell_type": "code",
   "execution_count": 58,
   "id": "7a09a842",
   "metadata": {},
   "outputs": [],
   "source": [
    "#abrir a página index, entrar no site da busca jurídica\n",
    "caminho = os.getcwd()\n",
    "arquivo = caminho + r\"\\Modulo 24 - Aula 25\\index.html\"\n",
    "navegador.get(arquivo)"
   ]
  },
  {
   "cell_type": "code",
   "execution_count": 59,
   "id": "e613f822",
   "metadata": {},
   "outputs": [],
   "source": [
    "#escolher um estado\n",
    "\n",
    "from selenium.webdriver import ActionChains\n",
    "\n",
    "#abrir a lista de cidades\n",
    "botao = navegador.find_element(By.CLASS_NAME, 'dropdown-menu')\n",
    "ActionChains(navegador).move_to_element(botao).perform()\n",
    "\n",
    "#selecionando rio de janeiro\n",
    "navegador.find_element(By.XPATH, '/html/body/div/div/div/a[2]').click()\n",
    "\n"
   ]
  },
  {
   "cell_type": "code",
   "execution_count": 60,
   "id": "518a7a62",
   "metadata": {},
   "outputs": [],
   "source": [
    "#mudar para nova aba\n",
    "aba_original = navegador.window_handles[0]\n",
    "aba_nova = navegador.window_handles[1]\n",
    "\n",
    "navegador.switch_to.window(aba_nova)\n",
    "\n",
    "#preencher o formulário com os dados de busca\n",
    "navegador.find_element(By.ID, 'nome').send_keys('Leonardo')\n",
    "navegador.find_element(By.ID, 'advogado').send_keys('Raposo')\n",
    "navegador.find_element(By.ID, 'numero').send_keys('1231561561')\n",
    "\n"
   ]
  },
  {
   "cell_type": "code",
   "execution_count": 61,
   "id": "bf9bb131",
   "metadata": {},
   "outputs": [],
   "source": [
    "#clicar em pesquisar\n",
    "\n",
    "navegador.find_element(By.CLASS_NAME, 'registerbtn').click()\n",
    "\n"
   ]
  },
  {
   "cell_type": "code",
   "execution_count": 62,
   "id": "9462a044",
   "metadata": {},
   "outputs": [],
   "source": [
    "#confirmar a pesquisa\n",
    "alerta = navegador.switch_to.alert\n",
    "alerta.accept()\n",
    "\n"
   ]
  },
  {
   "cell_type": "code",
   "execution_count": 63,
   "id": "f2204393",
   "metadata": {},
   "outputs": [
    {
     "name": "stdout",
     "output_type": "stream",
     "text": [
      "Processo não encontrado\n"
     ]
    }
   ],
   "source": [
    "#esperar o resultado da pesquisa e agir de acordo com o resultado\n",
    "import time\n",
    "\n",
    "while True:\n",
    "    try: \n",
    "        alerta = navegador.switch_to.alert\n",
    "        break\n",
    "    except:\n",
    "        time.sleep(1)\n",
    "texto_alerta = alerta.text\n",
    "\n",
    "if \"Processo encontrado com sucesso\" in texto_alerta:\n",
    "    alerta.accept()\n",
    "    print('Processo foi encontrado')\n",
    "else:\n",
    "    print('Processo não encontrado')\n",
    "    alerta.accept()"
   ]
  }
 ],
 "metadata": {
  "kernelspec": {
   "display_name": "Python 3 (ipykernel)",
   "language": "python",
   "name": "python3"
  },
  "language_info": {
   "codemirror_mode": {
    "name": "ipython",
    "version": 3
   },
   "file_extension": ".py",
   "mimetype": "text/x-python",
   "name": "python",
   "nbconvert_exporter": "python",
   "pygments_lexer": "ipython3",
   "version": "3.9.13"
  }
 },
 "nbformat": 4,
 "nbformat_minor": 5
}

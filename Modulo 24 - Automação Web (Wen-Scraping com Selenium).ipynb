{
 "cells": [
  {
   "cell_type": "code",
   "execution_count": 44,
   "id": "84af24d4",
   "metadata": {},
   "outputs": [],
   "source": [
    "from selenium import webdriver\n",
    "from selenium.webdriver.common.by import By\n",
    "navegador = webdriver.Chrome()\n",
    "import os\n"
   ]
  },
  {
   "cell_type": "code",
   "execution_count": 45,
   "id": "4c3580a5",
   "metadata": {},
   "outputs": [],
   "source": [
    "#entrar na página de login\n",
    "caminho = os.getcwd()\n",
    "arquivo = caminho + r\"\\Modulo 24\\login.html\"\n",
    "navegador.get(arquivo)"
   ]
  },
  {
   "cell_type": "code",
   "execution_count": 46,
   "id": "54f76452",
   "metadata": {},
   "outputs": [],
   "source": [
    "#preencher login e senha e clicar no botão\n",
    "navegador.find_element(By.XPATH, r'/html/body/div/form/input[1]').send_keys (\"leonsmota@gmail.com\")\n",
    "navegador.find_element(By.XPATH, r'/html/body/div/form/input[2]').send_keys ('123456')\n",
    "navegador.find_element(By.XPATH, r'/html/body/div/form/button').click()"
   ]
  },
  {
   "cell_type": "code",
   "execution_count": 47,
   "id": "7c9e1ea3",
   "metadata": {},
   "outputs": [],
   "source": [
    "#preencher os dados da nota e clicar no botão\n",
    "\n",
    "# razão social\n",
    "navegador.find_element(By.NAME, 'nome').send_keys ('aula python ltda')\n",
    "#endereço\n",
    "navegador.find_element(By.NAME, 'endereco').send_keys ('rua projetada a')\n",
    "#bairro\n",
    "navegador.find_element(By.NAME, 'bairro').send_keys ('centro')\n",
    "#cidade\n",
    "navegador.find_element(By.NAME, 'municipio').send_keys ('rio de janeiro')\n",
    "#cep\n",
    "navegador.find_element(By.NAME, 'cep').send_keys ('45985-201')\n",
    "#estado\n",
    "navegador.find_element(By.NAME, 'uf').send_keys ('rj')\n",
    "#cnpj\n",
    "navegador.find_element(By.NAME, 'cnpj').send_keys ('11.222.333/0001-01')\n",
    "#inscrição estadual\n",
    "navegador.find_element(By.NAME, 'inscricao').send_keys ('1321654651561')\n",
    "#descrição\n",
    "texto = (\"Valor referente a venda de um curso digital\")\n",
    "navegador.find_element(By.NAME, 'descricao').send_keys (texto)\n",
    "#quantidade\n",
    "navegador.find_element(By.NAME, 'quantidade').send_keys ('2')\n",
    "#valor uniotário\n",
    "navegador.find_element(By.NAME, 'valor_unitario').send_keys ('1000')\n",
    "#valor total\n",
    "navegador.find_element(By.NAME, 'total').send_keys ('2000')\n",
    "\n",
    "#clicar em emitir nota\n",
    "navegador.find_element(By.CLASS_NAME, 'registerbtn').click()"
   ]
  },
  {
   "cell_type": "code",
   "execution_count": null,
   "id": "3fff6ecb",
   "metadata": {},
   "outputs": [],
   "source": []
  }
 ],
 "metadata": {
  "kernelspec": {
   "display_name": "Python 3 (ipykernel)",
   "language": "python",
   "name": "python3"
  },
  "language_info": {
   "codemirror_mode": {
    "name": "ipython",
    "version": 3
   },
   "file_extension": ".py",
   "mimetype": "text/x-python",
   "name": "python",
   "nbconvert_exporter": "python",
   "pygments_lexer": "ipython3",
   "version": "3.9.13"
  }
 },
 "nbformat": 4,
 "nbformat_minor": 5
}
